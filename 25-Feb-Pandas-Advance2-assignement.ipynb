{
 "cells": [
  {
   "cell_type": "raw",
   "id": "0efb7fcd-0adb-4b6e-9ec7-23e9454eae15",
   "metadata": {},
   "source": [
    "Consider following code to answer further questions:\n",
    "import pandas as pd\n",
    "course_name = [‘Data Science’, ‘Machine Learning’, ‘Big Data’, ‘Data Engineer’]\n",
    "duration = [2,3,6,4]\n",
    "df = pd.DataFrame(data = {‘course_name’ : course_name, ‘duration’ : duration})"
   ]
  },
  {
   "cell_type": "code",
   "execution_count": 3,
   "id": "4d7c7803-45ff-43be-9275-d5b7888f7309",
   "metadata": {},
   "outputs": [
    {
     "name": "stdout",
     "output_type": "stream",
     "text": [
      "        course_name  duration\n",
      "0      Data Science         2\n",
      "1  Machine Learning         3\n",
      "2          Big Data         6\n",
      "3     Data Engineer         4\n"
     ]
    }
   ],
   "source": [
    "import pandas as pd\n",
    "course_name = ['Data Science', 'Machine Learning', 'Big Data', 'Data Engineer']\n",
    "duration = [2,3,6,4]\n",
    "df = pd.DataFrame(data = {'course_name' : course_name, 'duration' : duration})\n",
    "print(df)"
   ]
  },
  {
   "cell_type": "markdown",
   "id": "78a634eb-f74d-4da0-b051-d8c275f08a1a",
   "metadata": {},
   "source": [
    "# Q1. Write a code to print the data present in the second row of the dataframe, df."
   ]
  },
  {
   "cell_type": "code",
   "execution_count": 5,
   "id": "fa24b68a-e2d1-4d3c-ba56-e85dd3bd49c8",
   "metadata": {},
   "outputs": [
    {
     "data": {
      "text/plain": [
       "course_name    Machine Learning\n",
       "duration                      3\n",
       "Name: 1, dtype: object"
      ]
     },
     "execution_count": 5,
     "metadata": {},
     "output_type": "execute_result"
    }
   ],
   "source": [
    "df.loc[1]"
   ]
  },
  {
   "cell_type": "markdown",
   "id": "feecba9c-5832-4e83-b731-7fa1f01f8827",
   "metadata": {},
   "source": [
    "# Q2. What is the difference between the functions loc and iloc in pandas.DataFrame?"
   ]
  },
  {
   "cell_type": "raw",
   "id": "1c3438cc-e91a-49e9-81ce-d43e20e0d44e",
   "metadata": {},
   "source": [
    "loc - \n",
    "Every dataframe contains index, that may be string or numeric. We can access the rows using that indexes from table.\n",
    "\n",
    "iloc - \n",
    "loc works on numbered indexes starting from 0 to n."
   ]
  },
  {
   "cell_type": "markdown",
   "id": "0fa10243-de6d-402a-8b5f-f51c4f9796d3",
   "metadata": {},
   "source": [
    "# Q3. Reindex the given dataframe using a variable, reindex = [3,0,1,2] and store it in the variable, new_df then find the output for both new_df.loc[2] and new_df.iloc[2]."
   ]
  },
  {
   "cell_type": "code",
   "execution_count": 6,
   "id": "094a8d6b-be0c-43ba-a0d5-10c4c55a3ca9",
   "metadata": {},
   "outputs": [
    {
     "data": {
      "text/html": [
       "<div>\n",
       "<style scoped>\n",
       "    .dataframe tbody tr th:only-of-type {\n",
       "        vertical-align: middle;\n",
       "    }\n",
       "\n",
       "    .dataframe tbody tr th {\n",
       "        vertical-align: top;\n",
       "    }\n",
       "\n",
       "    .dataframe thead th {\n",
       "        text-align: right;\n",
       "    }\n",
       "</style>\n",
       "<table border=\"1\" class=\"dataframe\">\n",
       "  <thead>\n",
       "    <tr style=\"text-align: right;\">\n",
       "      <th></th>\n",
       "      <th>course_name</th>\n",
       "      <th>duration</th>\n",
       "    </tr>\n",
       "  </thead>\n",
       "  <tbody>\n",
       "    <tr>\n",
       "      <th>0</th>\n",
       "      <td>Data Science</td>\n",
       "      <td>2</td>\n",
       "    </tr>\n",
       "    <tr>\n",
       "      <th>1</th>\n",
       "      <td>Machine Learning</td>\n",
       "      <td>3</td>\n",
       "    </tr>\n",
       "    <tr>\n",
       "      <th>2</th>\n",
       "      <td>Big Data</td>\n",
       "      <td>6</td>\n",
       "    </tr>\n",
       "    <tr>\n",
       "      <th>3</th>\n",
       "      <td>Data Engineer</td>\n",
       "      <td>4</td>\n",
       "    </tr>\n",
       "  </tbody>\n",
       "</table>\n",
       "</div>"
      ],
      "text/plain": [
       "        course_name  duration\n",
       "0      Data Science         2\n",
       "1  Machine Learning         3\n",
       "2          Big Data         6\n",
       "3     Data Engineer         4"
      ]
     },
     "execution_count": 6,
     "metadata": {},
     "output_type": "execute_result"
    }
   ],
   "source": [
    "df"
   ]
  },
  {
   "cell_type": "code",
   "execution_count": 7,
   "id": "6331493d-e544-406e-a0c4-4a3bb58ea385",
   "metadata": {},
   "outputs": [
    {
     "name": "stdout",
     "output_type": "stream",
     "text": [
      "        course_name  duration\n",
      "3     Data Engineer         4\n",
      "0      Data Science         2\n",
      "1  Machine Learning         3\n",
      "2          Big Data         6\n"
     ]
    }
   ],
   "source": [
    "new_df = df.reindex(index=[3,0,1,2])\n",
    "print(new_df)"
   ]
  },
  {
   "cell_type": "code",
   "execution_count": 8,
   "id": "a5c250c0-3d18-4bbc-bc16-be174aa76725",
   "metadata": {},
   "outputs": [
    {
     "data": {
      "text/plain": [
       "course_name    Big Data\n",
       "duration              6\n",
       "Name: 2, dtype: object"
      ]
     },
     "execution_count": 8,
     "metadata": {},
     "output_type": "execute_result"
    }
   ],
   "source": [
    "new_df.loc[2]"
   ]
  },
  {
   "cell_type": "code",
   "execution_count": 9,
   "id": "91bdc7e8-e47c-4dcd-a8bd-d843486f1a83",
   "metadata": {},
   "outputs": [
    {
     "data": {
      "text/plain": [
       "course_name    Machine Learning\n",
       "duration                      3\n",
       "Name: 1, dtype: object"
      ]
     },
     "execution_count": 9,
     "metadata": {},
     "output_type": "execute_result"
    }
   ],
   "source": [
    "new_df.iloc[2]"
   ]
  },
  {
   "cell_type": "raw",
   "id": "ce94740b-22db-44a8-892b-b08627824c38",
   "metadata": {},
   "source": [
    "Did you observe any difference in both the outputs? If so then explain it.\n",
    "--->>>Yes there is a difference in both above outputs.\n",
    "new_df.loc[2] gives output based on indexes in dataframe.\n",
    "new_df.iloc[2] gives output depending on natural indexing of the dataframes sgarting from 0 with first row.\n",
    "\n",
    "\n",
    "\n"
   ]
  },
  {
   "cell_type": "markdown",
   "id": "faeb0e46-490f-48c1-ad06-d6b947adf31a",
   "metadata": {},
   "source": [
    "# Consider the below code to answer further questions:"
   ]
  },
  {
   "cell_type": "code",
   "execution_count": 11,
   "id": "c181d76e-0475-4103-ae01-4f8e6f0b04c6",
   "metadata": {},
   "outputs": [
    {
     "data": {
      "text/html": [
       "<div>\n",
       "<style scoped>\n",
       "    .dataframe tbody tr th:only-of-type {\n",
       "        vertical-align: middle;\n",
       "    }\n",
       "\n",
       "    .dataframe tbody tr th {\n",
       "        vertical-align: top;\n",
       "    }\n",
       "\n",
       "    .dataframe thead th {\n",
       "        text-align: right;\n",
       "    }\n",
       "</style>\n",
       "<table border=\"1\" class=\"dataframe\">\n",
       "  <thead>\n",
       "    <tr style=\"text-align: right;\">\n",
       "      <th></th>\n",
       "      <th>column_1</th>\n",
       "      <th>column_2</th>\n",
       "      <th>column_3</th>\n",
       "      <th>column_4</th>\n",
       "      <th>column_5</th>\n",
       "      <th>column_6</th>\n",
       "    </tr>\n",
       "  </thead>\n",
       "  <tbody>\n",
       "    <tr>\n",
       "      <th>1</th>\n",
       "      <td>0.401884</td>\n",
       "      <td>0.577994</td>\n",
       "      <td>0.953015</td>\n",
       "      <td>0.496120</td>\n",
       "      <td>0.145951</td>\n",
       "      <td>0.700536</td>\n",
       "    </tr>\n",
       "    <tr>\n",
       "      <th>2</th>\n",
       "      <td>0.022749</td>\n",
       "      <td>0.894462</td>\n",
       "      <td>0.689260</td>\n",
       "      <td>0.511295</td>\n",
       "      <td>0.306594</td>\n",
       "      <td>0.523368</td>\n",
       "    </tr>\n",
       "    <tr>\n",
       "      <th>3</th>\n",
       "      <td>0.722040</td>\n",
       "      <td>0.766666</td>\n",
       "      <td>0.818002</td>\n",
       "      <td>0.106956</td>\n",
       "      <td>0.396459</td>\n",
       "      <td>0.179569</td>\n",
       "    </tr>\n",
       "    <tr>\n",
       "      <th>4</th>\n",
       "      <td>0.432306</td>\n",
       "      <td>0.493707</td>\n",
       "      <td>0.502829</td>\n",
       "      <td>0.553307</td>\n",
       "      <td>0.401042</td>\n",
       "      <td>0.205285</td>\n",
       "    </tr>\n",
       "    <tr>\n",
       "      <th>5</th>\n",
       "      <td>0.170296</td>\n",
       "      <td>0.072489</td>\n",
       "      <td>0.317901</td>\n",
       "      <td>0.090231</td>\n",
       "      <td>0.784842</td>\n",
       "      <td>0.363790</td>\n",
       "    </tr>\n",
       "    <tr>\n",
       "      <th>6</th>\n",
       "      <td>0.684975</td>\n",
       "      <td>0.474535</td>\n",
       "      <td>0.060876</td>\n",
       "      <td>0.418012</td>\n",
       "      <td>0.062502</td>\n",
       "      <td>0.733748</td>\n",
       "    </tr>\n",
       "  </tbody>\n",
       "</table>\n",
       "</div>"
      ],
      "text/plain": [
       "   column_1  column_2  column_3  column_4  column_5  column_6\n",
       "1  0.401884  0.577994  0.953015  0.496120  0.145951  0.700536\n",
       "2  0.022749  0.894462  0.689260  0.511295  0.306594  0.523368\n",
       "3  0.722040  0.766666  0.818002  0.106956  0.396459  0.179569\n",
       "4  0.432306  0.493707  0.502829  0.553307  0.401042  0.205285\n",
       "5  0.170296  0.072489  0.317901  0.090231  0.784842  0.363790\n",
       "6  0.684975  0.474535  0.060876  0.418012  0.062502  0.733748"
      ]
     },
     "execution_count": 11,
     "metadata": {},
     "output_type": "execute_result"
    }
   ],
   "source": [
    "import pandas as pd\n",
    "import numpy as np\n",
    "columns = ['column_1', 'column_2', 'column_3', 'column_4', 'column_5', 'column_6']\n",
    "indices = [1,2,3,4,5,6]\n",
    "#Creating a dataframe:\n",
    "df1 = pd.DataFrame(np.random.rand(6,6), columns = columns, index = indices)\n",
    "df1"
   ]
  },
  {
   "cell_type": "markdown",
   "id": "158c06ca-0365-4757-8851-0374acb668f2",
   "metadata": {},
   "source": [
    "# Q4. Write a code to find the following statistical measurements for the above dataframe df1:\n",
    "(i) mean of each and every column present in the dataframe.\n",
    "\n",
    "(ii) standard deviation of column, ‘column_2’"
   ]
  },
  {
   "cell_type": "code",
   "execution_count": 12,
   "id": "5669f3bd-df87-4ece-94af-572c874be030",
   "metadata": {},
   "outputs": [
    {
     "data": {
      "text/plain": [
       "column_1    0.405708\n",
       "column_2    0.546642\n",
       "column_3    0.556981\n",
       "column_4    0.362654\n",
       "column_5    0.349565\n",
       "column_6    0.451049\n",
       "dtype: float64"
      ]
     },
     "execution_count": 12,
     "metadata": {},
     "output_type": "execute_result"
    }
   ],
   "source": [
    "#(i) mean of each and every column present in the dataframe.\n",
    "df1.mean()"
   ]
  },
  {
   "cell_type": "code",
   "execution_count": 14,
   "id": "fc2ad8e5-2901-45fb-a7d4-cf8d09e368c9",
   "metadata": {},
   "outputs": [
    {
     "data": {
      "text/plain": [
       "0.2839700395163876"
      ]
     },
     "execution_count": 14,
     "metadata": {},
     "output_type": "execute_result"
    }
   ],
   "source": [
    "#(ii) standard deviation of column, ‘column_2’\n",
    "df1['column_2'].std()"
   ]
  },
  {
   "cell_type": "markdown",
   "id": "8dab7680-aae1-446c-a9ba-03665ed3703a",
   "metadata": {},
   "source": [
    "# Q5. Replace the data present in the second row of column, ‘column_2’ by a string variable then find the mean of column, column_2. If you are getting errors in executing it then explain why.\n",
    "[Hint: To replace the data use df1.loc[] and equate this to string data of your choice.]"
   ]
  },
  {
   "cell_type": "code",
   "execution_count": 15,
   "id": "875b1df6-827f-44db-ae1d-b3349044e6af",
   "metadata": {},
   "outputs": [
    {
     "data": {
      "text/html": [
       "<div>\n",
       "<style scoped>\n",
       "    .dataframe tbody tr th:only-of-type {\n",
       "        vertical-align: middle;\n",
       "    }\n",
       "\n",
       "    .dataframe tbody tr th {\n",
       "        vertical-align: top;\n",
       "    }\n",
       "\n",
       "    .dataframe thead th {\n",
       "        text-align: right;\n",
       "    }\n",
       "</style>\n",
       "<table border=\"1\" class=\"dataframe\">\n",
       "  <thead>\n",
       "    <tr style=\"text-align: right;\">\n",
       "      <th></th>\n",
       "      <th>column_1</th>\n",
       "      <th>column_2</th>\n",
       "      <th>column_3</th>\n",
       "      <th>column_4</th>\n",
       "      <th>column_5</th>\n",
       "      <th>column_6</th>\n",
       "    </tr>\n",
       "  </thead>\n",
       "  <tbody>\n",
       "    <tr>\n",
       "      <th>1</th>\n",
       "      <td>0.401884</td>\n",
       "      <td>0.577994</td>\n",
       "      <td>0.953015</td>\n",
       "      <td>0.496120</td>\n",
       "      <td>0.145951</td>\n",
       "      <td>0.700536</td>\n",
       "    </tr>\n",
       "    <tr>\n",
       "      <th>2</th>\n",
       "      <td>0.022749</td>\n",
       "      <td>0.894462</td>\n",
       "      <td>0.689260</td>\n",
       "      <td>0.511295</td>\n",
       "      <td>0.306594</td>\n",
       "      <td>0.523368</td>\n",
       "    </tr>\n",
       "    <tr>\n",
       "      <th>3</th>\n",
       "      <td>0.722040</td>\n",
       "      <td>0.766666</td>\n",
       "      <td>0.818002</td>\n",
       "      <td>0.106956</td>\n",
       "      <td>0.396459</td>\n",
       "      <td>0.179569</td>\n",
       "    </tr>\n",
       "    <tr>\n",
       "      <th>4</th>\n",
       "      <td>0.432306</td>\n",
       "      <td>0.493707</td>\n",
       "      <td>0.502829</td>\n",
       "      <td>0.553307</td>\n",
       "      <td>0.401042</td>\n",
       "      <td>0.205285</td>\n",
       "    </tr>\n",
       "    <tr>\n",
       "      <th>5</th>\n",
       "      <td>0.170296</td>\n",
       "      <td>0.072489</td>\n",
       "      <td>0.317901</td>\n",
       "      <td>0.090231</td>\n",
       "      <td>0.784842</td>\n",
       "      <td>0.363790</td>\n",
       "    </tr>\n",
       "    <tr>\n",
       "      <th>6</th>\n",
       "      <td>0.684975</td>\n",
       "      <td>0.474535</td>\n",
       "      <td>0.060876</td>\n",
       "      <td>0.418012</td>\n",
       "      <td>0.062502</td>\n",
       "      <td>0.733748</td>\n",
       "    </tr>\n",
       "  </tbody>\n",
       "</table>\n",
       "</div>"
      ],
      "text/plain": [
       "   column_1  column_2  column_3  column_4  column_5  column_6\n",
       "1  0.401884  0.577994  0.953015  0.496120  0.145951  0.700536\n",
       "2  0.022749  0.894462  0.689260  0.511295  0.306594  0.523368\n",
       "3  0.722040  0.766666  0.818002  0.106956  0.396459  0.179569\n",
       "4  0.432306  0.493707  0.502829  0.553307  0.401042  0.205285\n",
       "5  0.170296  0.072489  0.317901  0.090231  0.784842  0.363790\n",
       "6  0.684975  0.474535  0.060876  0.418012  0.062502  0.733748"
      ]
     },
     "execution_count": 15,
     "metadata": {},
     "output_type": "execute_result"
    }
   ],
   "source": [
    "df1"
   ]
  },
  {
   "cell_type": "code",
   "execution_count": 23,
   "id": "84f6029e-e4ff-4c78-8d52-dfb766a5ff45",
   "metadata": {},
   "outputs": [],
   "source": [
    "df1.loc[2]['column_2'] = 0.111111111"
   ]
  },
  {
   "cell_type": "code",
   "execution_count": 24,
   "id": "0b23bc9e-74ea-4343-b2c8-f7d0f59b7c76",
   "metadata": {},
   "outputs": [
    {
     "data": {
      "text/plain": [
       "0.4160838453326146"
      ]
     },
     "execution_count": 24,
     "metadata": {},
     "output_type": "execute_result"
    }
   ],
   "source": [
    "df1['column_2'].mean()"
   ]
  },
  {
   "cell_type": "markdown",
   "id": "daa19366-653a-49f0-9180-90fa32b81219",
   "metadata": {},
   "source": [
    "# Q6. What do you understand about the windows function in pandas and list the types of windows functions?"
   ]
  },
  {
   "cell_type": "raw",
   "id": "577ca777-b990-4401-8e05-7c9aedbdf86f",
   "metadata": {},
   "source": [
    "Windowing operations - an operation that performs an aggregation over a sliding partition of values or window of given size\n",
    "\n",
    "\n",
    "pandas supports 4 types of windowing operations:\n",
    "\n",
    "Rolling window: Generic fixed or variable sliding window over the values.\n",
    "\n",
    "Weighted window: Weighted, non-rectangular window supplied by the scipy.signal library.\n",
    "\n",
    "Expanding window: Accumulating window over the values.\n",
    "\n",
    "Exponentially Weighted window: Accumulating and exponentially weighted window over the values."
   ]
  },
  {
   "cell_type": "markdown",
   "id": "7d83b5ad-48eb-4b1e-81d1-160eeeaa16eb",
   "metadata": {},
   "source": [
    "# Q7. Write a code to print only the current month and year at the time of answering this question. [Hint: Use pandas.datetime function]"
   ]
  },
  {
   "cell_type": "code",
   "execution_count": 30,
   "id": "6f66979e-e4ba-4b20-9c3c-109b2e15faae",
   "metadata": {},
   "outputs": [
    {
     "data": {
      "text/plain": [
       "datetime.date(2023, 3, 14)"
      ]
     },
     "execution_count": 30,
     "metadata": {},
     "output_type": "execute_result"
    }
   ],
   "source": [
    "from datetime import date\n",
    "d = date(2023, 3, 14)\n",
    "d"
   ]
  },
  {
   "cell_type": "code",
   "execution_count": 31,
   "id": "d9c749f7-f7ea-4fd4-a7da-4583a8f8c2f5",
   "metadata": {},
   "outputs": [
    {
     "data": {
      "text/plain": [
       "2023"
      ]
     },
     "execution_count": 31,
     "metadata": {},
     "output_type": "execute_result"
    }
   ],
   "source": [
    "d.year"
   ]
  },
  {
   "cell_type": "code",
   "execution_count": 32,
   "id": "b1087349-7a35-4b82-b131-0d392426169b",
   "metadata": {},
   "outputs": [
    {
     "data": {
      "text/plain": [
       "3"
      ]
     },
     "execution_count": 32,
     "metadata": {},
     "output_type": "execute_result"
    }
   ],
   "source": [
    "d.month"
   ]
  },
  {
   "cell_type": "markdown",
   "id": "e820ac61-f273-48ad-aaca-dd8b297fc3ec",
   "metadata": {},
   "source": [
    "# Q8. Write a Python program that takes in two dates as input (in the format YYYY-MM-DD) and calculates the difference between them in days, hours, and minutes using Pandas time delta. The program should prompt the user to enter the dates and display the result."
   ]
  },
  {
   "cell_type": "code",
   "execution_count": 33,
   "id": "b806fba7-dbf1-451c-805f-acde40d73078",
   "metadata": {},
   "outputs": [
    {
     "name": "stdout",
     "output_type": "stream",
     "text": [
      "Difference:  4 days, 23:55:00\n",
      "Total difference in minutes:  7195.0 minutes 0.0 seconds\n",
      "Total difference in minutes:  1435 minutes 0 seconds\n"
     ]
    }
   ],
   "source": [
    "import datetime\n",
    "\n",
    "a = datetime.datetime(2023, 3, 10, 12, 25, 30)\n",
    "b = datetime.datetime(2023, 3, 5, 12, 30, 30)\n",
    " \n",
    "c = a-b\n",
    "print('Difference: ', c)\n",
    "\n",
    "minutes = divmod(c.total_seconds(), 60)\n",
    "print('Total difference in minutes: ', minutes[0], 'minutes',\n",
    "                                 minutes[1], 'seconds')\n",
    " \n",
    "minutes = divmod(c.seconds, 60)\n",
    "print('Total difference in minutes: ', minutes[0], 'minutes',\n",
    "                                 minutes[1], 'seconds')"
   ]
  },
  {
   "cell_type": "code",
   "execution_count": null,
   "id": "07d8cc79-09a3-4e0a-9b83-3fcbba17a9b7",
   "metadata": {},
   "outputs": [],
   "source": []
  }
 ],
 "metadata": {
  "kernelspec": {
   "display_name": "Python 3 (ipykernel)",
   "language": "python",
   "name": "python3"
  },
  "language_info": {
   "codemirror_mode": {
    "name": "ipython",
    "version": 3
   },
   "file_extension": ".py",
   "mimetype": "text/x-python",
   "name": "python",
   "nbconvert_exporter": "python",
   "pygments_lexer": "ipython3",
   "version": "3.10.8"
  }
 },
 "nbformat": 4,
 "nbformat_minor": 5
}
